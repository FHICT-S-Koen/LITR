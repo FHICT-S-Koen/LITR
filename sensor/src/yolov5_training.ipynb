{
 "cells": [
  {
   "cell_type": "code",
   "execution_count": null,
   "metadata": {},
   "outputs": [],
   "source": [
    "# clone YOLOv5 repository\n",
    "!git clone https://github.com/ultralytics/yolov5  # clone repo\n",
    "# !git reset --hard 886f1c03d839575afecb059accf74296fad395b6 # This is an older version which is > 900 commits behind"
   ]
  },
  {
   "cell_type": "code",
   "execution_count": null,
   "metadata": {},
   "outputs": [],
   "source": [
    "# install dependencies as necessary\n",
    "!pip install -r yolov5/requirements.txt  # install dependencies from yolov5 \n",
    "import torch\n",
    "\n",
    "from IPython.display import Image, clear_output  # to display images\n",
    "# from utils.google_utils import gdrive_download  # to download models/datasets\n",
    "\n",
    "clear_output()\n",
    "print('Setup complete. Using torch %s %s' % (torch.__version__, torch.cuda.get_device_properties(0) if torch.cuda.is_available() else 'CPU'))"
   ]
  },
  {
   "cell_type": "code",
   "execution_count": null,
   "metadata": {},
   "outputs": [],
   "source": [
    "#follow the link below to get your download code from from Roboflow\n",
    "!pip install -q roboflow\n",
    "from roboflow import Roboflow\n",
    "rf = Roboflow(model_format=\"yolov5\", notebook=\"roboflow-yolov5\")"
   ]
  },
  {
   "cell_type": "code",
   "execution_count": null,
   "metadata": {},
   "outputs": [],
   "source": [
    "import os\n",
    "from dotenv import load_dotenv\n",
    "\n",
    "load_dotenv('.env') # DO NOT PRINT OUT THE ENVIRONMENT VARIABLES since the output may be saved, because of Jupyter notebook and then may be pushed to github excedentally\n",
    "\n",
    "WORKSPACE = os.getenv('WORKSPACE')\n",
    "PROJECT = os.getenv('PROJECT')\n",
    "API_KEY = os.getenv('API_KEY')\n",
    "\n",
    "%cd yolov5\n",
    "\n",
    "from roboflow import Roboflow\n",
    "rf = Roboflow(api_key=API_KEY) #if you want to change you API_KEY/WORKSPACE/PROJECT you may need to reopen the jupyter file in your editor or restart your editor\n",
    "dataset = rf.workspace(WORKSPACE).project(PROJECT).version(7).download(\"yolov5\")"
   ]
  },
  {
   "cell_type": "code",
   "execution_count": null,
   "metadata": {},
   "outputs": [],
   "source": [
    "# this is the YAML file Roboflow wrote for us that we're loading into this notebook with our data\n",
    "%cat {dataset.location}/data.yaml"
   ]
  },
  {
   "cell_type": "code",
   "execution_count": null,
   "metadata": {},
   "outputs": [],
   "source": [
    "# start tensorboard at http://localhost:6006/\n",
    "%load_ext tensorboard\n",
    "%tensorboard --logdir runs"
   ]
  },
  {
   "cell_type": "code",
   "execution_count": null,
   "metadata": {},
   "outputs": [],
   "source": [
    "# start training\n",
    "# !python3.8 train.py --img 416 --batch 64 --epochs 200 --data {dataset.location}/data.yaml --weights runs/train/exp3/weights/best.pt --cache\n",
    "!python3.8 train.py --img 640 --batch 20 --epochs 200 --data {dataset.location}/data.yaml --weights ../yolov5m.pt --cache"
   ]
  },
  {
   "cell_type": "code",
   "execution_count": null,
   "metadata": {},
   "outputs": [],
   "source": [
    "# from utils.plots import plot_results  # plot results.txt as results.png\n",
    "from IPython.display import Image\n",
    "Image(filename='yolov5/runs/train/yolov5s_taco_v2_baseconf_300e_latest_results_continued_v1/results.png', width=1000)  # view results.png"
   ]
  },
  {
   "cell_type": "code",
   "execution_count": null,
   "metadata": {},
   "outputs": [],
   "source": [
    "# here you can test your trained models to see the results in the yolov5/runs/detect directory and see the inference time\n",
    "# use the best weights!\n",
    "!python3 detect.py --weights yolov5/runs/train/yolov5s_taco_v2_baseconf_300e_latest_results_continued_v1/weights/best.pt --img 416 --conf 0.4 --source LITR-1/test/images/"
   ]
  }
 ],
 "metadata": {
  "interpreter": {
   "hash": "916dbcbb3f70747c44a77c7bcd40155683ae19c65e1c03b4aa3499c5328201f1"
  },
  "kernelspec": {
   "display_name": "Python 3.9.7 64-bit",
   "language": "python",
   "name": "python3"
  },
  "language_info": {
   "codemirror_mode": {
    "name": "ipython",
    "version": 3
   },
   "file_extension": ".py",
   "mimetype": "text/x-python",
   "name": "python",
   "nbconvert_exporter": "python",
   "pygments_lexer": "ipython3",
   "version": "3.8.0"
  },
  "orig_nbformat": 4
 },
 "nbformat": 4,
 "nbformat_minor": 2
}
