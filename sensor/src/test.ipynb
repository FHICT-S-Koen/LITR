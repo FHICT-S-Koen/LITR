{
 "cells": [
  {
   "cell_type": "code",
   "execution_count": 1,
   "metadata": {},
   "outputs": [
    {
     "name": "stderr",
     "output_type": "stream",
     "text": [
      "/home/koen/.local/lib/python3.8/site-packages/tqdm/auto.py:22: TqdmWarning: IProgress not found. Please update jupyter and ipywidgets. See https://ipywidgets.readthedocs.io/en/stable/user_install.html\n",
      "  from .autonotebook import tqdm as notebook_tqdm\n"
     ]
    },
    {
     "name": "stdout",
     "output_type": "stream",
     "text": [
      "Using device: cuda \n",
      "\n"
     ]
    },
    {
     "name": "stderr",
     "output_type": "stream",
     "text": [
      "Using cache found in /home/koen/.cache/torch/hub/ultralytics_yolov5_master\n",
      "YOLOv5 🚀 2022-4-20 torch 1.11.0+cu102 CUDA:0 (NVIDIA GeForce GTX 1070 Ti, 8116MiB)\n",
      "\n",
      "Fusing layers... \n",
      "YOLOv5s summary: 213 layers, 7225885 parameters, 0 gradients\n",
      "Adding AutoShape... \n"
     ]
    },
    {
     "ename": "AttributeError",
     "evalue": "'NoneType' object has no attribute 'shape'",
     "output_type": "error",
     "traceback": [
      "\u001b[0;31m---------------------------------------------------------------------------\u001b[0m",
      "\u001b[0;31mAttributeError\u001b[0m                            Traceback (most recent call last)",
      "\u001b[1;32m/home/koen/study/s4/gp/code/LITR/sensor/src/test.ipynb Cell 1'\u001b[0m in \u001b[0;36m<cell line: 26>\u001b[0;34m()\u001b[0m\n\u001b[1;32m     <a href='vscode-notebook-cell:/home/koen/study/s4/gp/code/LITR/sensor/src/test.ipynb#ch0000000?line=30'>31</a>\u001b[0m base_img \u001b[39m=\u001b[39m copy(frame)\n\u001b[1;32m     <a href='vscode-notebook-cell:/home/koen/study/s4/gp/code/LITR/sensor/src/test.ipynb#ch0000000?line=32'>33</a>\u001b[0m \u001b[39m# Check frame for objects\u001b[39;00m\n\u001b[0;32m---> <a href='vscode-notebook-cell:/home/koen/study/s4/gp/code/LITR/sensor/src/test.ipynb#ch0000000?line=33'>34</a>\u001b[0m results \u001b[39m=\u001b[39m model(frame)\n\u001b[1;32m     <a href='vscode-notebook-cell:/home/koen/study/s4/gp/code/LITR/sensor/src/test.ipynb#ch0000000?line=35'>36</a>\u001b[0m \u001b[39m# Show results in window\u001b[39;00m\n\u001b[1;32m     <a href='vscode-notebook-cell:/home/koen/study/s4/gp/code/LITR/sensor/src/test.ipynb#ch0000000?line=36'>37</a>\u001b[0m cv2\u001b[39m.\u001b[39mimshow(\u001b[39m'\u001b[39m\u001b[39mYOLOv5s\u001b[39m\u001b[39m'\u001b[39m, np\u001b[39m.\u001b[39msqueeze(results\u001b[39m.\u001b[39mrender()))\n",
      "File \u001b[0;32m~/.local/lib/python3.8/site-packages/torch/nn/modules/module.py:1110\u001b[0m, in \u001b[0;36mModule._call_impl\u001b[0;34m(self, *input, **kwargs)\u001b[0m\n\u001b[1;32m   <a href='file:///home/koen/.local/lib/python3.8/site-packages/torch/nn/modules/module.py?line=1105'>1106</a>\u001b[0m \u001b[39m# If we don't have any hooks, we want to skip the rest of the logic in\u001b[39;00m\n\u001b[1;32m   <a href='file:///home/koen/.local/lib/python3.8/site-packages/torch/nn/modules/module.py?line=1106'>1107</a>\u001b[0m \u001b[39m# this function, and just call forward.\u001b[39;00m\n\u001b[1;32m   <a href='file:///home/koen/.local/lib/python3.8/site-packages/torch/nn/modules/module.py?line=1107'>1108</a>\u001b[0m \u001b[39mif\u001b[39;00m \u001b[39mnot\u001b[39;00m (\u001b[39mself\u001b[39m\u001b[39m.\u001b[39m_backward_hooks \u001b[39mor\u001b[39;00m \u001b[39mself\u001b[39m\u001b[39m.\u001b[39m_forward_hooks \u001b[39mor\u001b[39;00m \u001b[39mself\u001b[39m\u001b[39m.\u001b[39m_forward_pre_hooks \u001b[39mor\u001b[39;00m _global_backward_hooks\n\u001b[1;32m   <a href='file:///home/koen/.local/lib/python3.8/site-packages/torch/nn/modules/module.py?line=1108'>1109</a>\u001b[0m         \u001b[39mor\u001b[39;00m _global_forward_hooks \u001b[39mor\u001b[39;00m _global_forward_pre_hooks):\n\u001b[0;32m-> <a href='file:///home/koen/.local/lib/python3.8/site-packages/torch/nn/modules/module.py?line=1109'>1110</a>\u001b[0m     \u001b[39mreturn\u001b[39;00m forward_call(\u001b[39m*\u001b[39;49m\u001b[39minput\u001b[39;49m, \u001b[39m*\u001b[39;49m\u001b[39m*\u001b[39;49mkwargs)\n\u001b[1;32m   <a href='file:///home/koen/.local/lib/python3.8/site-packages/torch/nn/modules/module.py?line=1110'>1111</a>\u001b[0m \u001b[39m# Do not call functions when jit is used\u001b[39;00m\n\u001b[1;32m   <a href='file:///home/koen/.local/lib/python3.8/site-packages/torch/nn/modules/module.py?line=1111'>1112</a>\u001b[0m full_backward_hooks, non_full_backward_hooks \u001b[39m=\u001b[39m [], []\n",
      "File \u001b[0;32m~/.local/lib/python3.8/site-packages/torch/autograd/grad_mode.py:27\u001b[0m, in \u001b[0;36m_DecoratorContextManager.__call__.<locals>.decorate_context\u001b[0;34m(*args, **kwargs)\u001b[0m\n\u001b[1;32m     <a href='file:///home/koen/.local/lib/python3.8/site-packages/torch/autograd/grad_mode.py?line=23'>24</a>\u001b[0m \u001b[39m@functools\u001b[39m\u001b[39m.\u001b[39mwraps(func)\n\u001b[1;32m     <a href='file:///home/koen/.local/lib/python3.8/site-packages/torch/autograd/grad_mode.py?line=24'>25</a>\u001b[0m \u001b[39mdef\u001b[39;00m \u001b[39mdecorate_context\u001b[39m(\u001b[39m*\u001b[39margs, \u001b[39m*\u001b[39m\u001b[39m*\u001b[39mkwargs):\n\u001b[1;32m     <a href='file:///home/koen/.local/lib/python3.8/site-packages/torch/autograd/grad_mode.py?line=25'>26</a>\u001b[0m     \u001b[39mwith\u001b[39;00m \u001b[39mself\u001b[39m\u001b[39m.\u001b[39mclone():\n\u001b[0;32m---> <a href='file:///home/koen/.local/lib/python3.8/site-packages/torch/autograd/grad_mode.py?line=26'>27</a>\u001b[0m         \u001b[39mreturn\u001b[39;00m func(\u001b[39m*\u001b[39;49margs, \u001b[39m*\u001b[39;49m\u001b[39m*\u001b[39;49mkwargs)\n",
      "File \u001b[0;32m~/.cache/torch/hub/ultralytics_yolov5_master/models/common.py:551\u001b[0m, in \u001b[0;36mAutoShape.forward\u001b[0;34m(self, imgs, size, augment, profile)\u001b[0m\n\u001b[1;32m    <a href='file:///home/koen/.cache/torch/hub/ultralytics_yolov5_master/models/common.py?line=548'>549</a>\u001b[0m     im, f \u001b[39m=\u001b[39m np\u001b[39m.\u001b[39masarray(exif_transpose(im)), \u001b[39mgetattr\u001b[39m(im, \u001b[39m'\u001b[39m\u001b[39mfilename\u001b[39m\u001b[39m'\u001b[39m, f) \u001b[39mor\u001b[39;00m f\n\u001b[1;32m    <a href='file:///home/koen/.cache/torch/hub/ultralytics_yolov5_master/models/common.py?line=549'>550</a>\u001b[0m files\u001b[39m.\u001b[39mappend(Path(f)\u001b[39m.\u001b[39mwith_suffix(\u001b[39m'\u001b[39m\u001b[39m.jpg\u001b[39m\u001b[39m'\u001b[39m)\u001b[39m.\u001b[39mname)\n\u001b[0;32m--> <a href='file:///home/koen/.cache/torch/hub/ultralytics_yolov5_master/models/common.py?line=550'>551</a>\u001b[0m \u001b[39mif\u001b[39;00m im\u001b[39m.\u001b[39;49mshape[\u001b[39m0\u001b[39m] \u001b[39m<\u001b[39m \u001b[39m5\u001b[39m:  \u001b[39m# image in CHW\u001b[39;00m\n\u001b[1;32m    <a href='file:///home/koen/.cache/torch/hub/ultralytics_yolov5_master/models/common.py?line=551'>552</a>\u001b[0m     im \u001b[39m=\u001b[39m im\u001b[39m.\u001b[39mtranspose((\u001b[39m1\u001b[39m, \u001b[39m2\u001b[39m, \u001b[39m0\u001b[39m))  \u001b[39m# reverse dataloader .transpose(2, 0, 1)\u001b[39;00m\n\u001b[1;32m    <a href='file:///home/koen/.cache/torch/hub/ultralytics_yolov5_master/models/common.py?line=552'>553</a>\u001b[0m im \u001b[39m=\u001b[39m im[\u001b[39m.\u001b[39m\u001b[39m.\u001b[39m\u001b[39m.\u001b[39m, :\u001b[39m3\u001b[39m] \u001b[39mif\u001b[39;00m im\u001b[39m.\u001b[39mndim \u001b[39m==\u001b[39m \u001b[39m3\u001b[39m \u001b[39melse\u001b[39;00m np\u001b[39m.\u001b[39mtile(im[\u001b[39m.\u001b[39m\u001b[39m.\u001b[39m\u001b[39m.\u001b[39m, \u001b[39mNone\u001b[39;00m], \u001b[39m3\u001b[39m)  \u001b[39m# enforce 3ch input\u001b[39;00m\n",
      "\u001b[0;31mAttributeError\u001b[0m: 'NoneType' object has no attribute 'shape'"
     ]
    }
   ],
   "source": [
    "from copy import copy\n",
    "import time\n",
    "import torch\n",
    "import cv2\n",
    "import numpy as np\n",
    "from matplotlib import pyplot as plt\n",
    "\n",
    "# setting device on GPU if available, else CPU\n",
    "device = torch.device('cuda' if torch.cuda.is_available() else 'cpu')\n",
    "print('Using device:', device, '\\n')\n",
    "\n",
    "# Load Model (yolov5s)\n",
    "model = torch.hub.load('ultralytics/yolov5', 'yolov5s')\n",
    "\n",
    "# Set confidence treshold\n",
    "model.conf = 0.10\n",
    "\n",
    "# Only detect bottles\n",
    "model.classes = [39]\n",
    "\n",
    "# Try to start videocapture\n",
    "cap = cv2.VideoCapture(\"squared_bottle_plantation.mov\")\n",
    "\n",
    "count = 0\n",
    "# --------------------- START DETECTING ------------------------ #\n",
    "while cap.isOpened():\n",
    "\tcount += 1\n",
    "\tif cv2.waitKey(10) & 0xFF == ord('h'):\n",
    "\t\tbreak\n",
    "\tret, frame = cap.read()\n",
    "\tbase_img = copy(frame)\n",
    "\n",
    "\t# Check frame for objects\n",
    "\tresults = model(frame)\n",
    "\n",
    "\t# Show results in window\n",
    "\tcv2.imshow('YOLOv5s', np.squeeze(results.render()))\n",
    "\n",
    "\t# Reformat results to pandas dataframe\n",
    "\tdf = results.pandas().xyxy[0]\n",
    "\n",
    "\t# If empty continue with next frame\n",
    "\t# else send detection data\n",
    "\tif (df.empty): continue\n",
    "\t# if (not count % 20 == 19): continue\n",
    "\n",
    "cap.release()\n",
    "cv2.destroyAllWindows()"
   ]
  }
 ],
 "metadata": {
  "interpreter": {
   "hash": "0adcc2737ebf6a4a119f135174df96668767fca1ef1112612db5ecadf2b6d608"
  },
  "kernelspec": {
   "display_name": "Python 3.8.0 64-bit",
   "language": "python",
   "name": "python3"
  },
  "language_info": {
   "codemirror_mode": {
    "name": "ipython",
    "version": 3
   },
   "file_extension": ".py",
   "mimetype": "text/x-python",
   "name": "python",
   "nbconvert_exporter": "python",
   "pygments_lexer": "ipython3",
   "version": "3.8.0"
  },
  "orig_nbformat": 4
 },
 "nbformat": 4,
 "nbformat_minor": 2
}
