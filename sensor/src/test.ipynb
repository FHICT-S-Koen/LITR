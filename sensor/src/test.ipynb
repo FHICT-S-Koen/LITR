{
 "cells": [
  {
   "cell_type": "code",
   "execution_count": 2,
   "metadata": {},
   "outputs": [
    {
     "name": "stderr",
     "output_type": "stream",
     "text": [
      "Using cache found in /home/koen/.cache/torch/hub/ultralytics_yolov5_master\n",
      "YOLOv5 🚀 2022-4-20 torch 1.11.0+cu102 CUDA:0 (NVIDIA GeForce GTX 1070 Ti, 8116MiB)\n",
      "\n",
      "Fusing layers... \n"
     ]
    },
    {
     "name": "stdout",
     "output_type": "stream",
     "text": [
      "Using device: cuda \n",
      "\n"
     ]
    },
    {
     "name": "stderr",
     "output_type": "stream",
     "text": [
      "YOLOv5s summary: 213 layers, 7225885 parameters, 0 gradients\n",
      "Adding AutoShape... \n"
     ]
    }
   ],
   "source": [
    "import torch\n",
    "import cv2\n",
    "import numpy as np\n",
    "\n",
    "# setting device on GPU if available, else CPU\n",
    "device = torch.device('cuda' if torch.cuda.is_available() else 'cpu')\n",
    "print('Using device:', device, '\\n')\n",
    "\n",
    "# Load Model (yolov5s)\n",
    "model = torch.hub.load('ultralytics/yolov5', 'yolov5s')\n",
    "\n",
    "# Set confidence treshold\n",
    "model.conf = 0.1\n",
    "\n",
    "# Only detect bottles\n",
    "model.classes = [39]\n",
    "\n",
    "# Try to start videocapture\n",
    "cap = cv2.VideoCapture(\"IMG_7215.MOV\")\n",
    "\n",
    "VIDEO_SHAPE = (1080, 1080)\n",
    "FPS = 30\n",
    "\n",
    "# Try to start videowriter\n",
    "writer = cv2.VideoWriter('video.mp4', \n",
    "                         cv2.VideoWriter_fourcc(*'mp4v'),\n",
    "                         FPS, VIDEO_SHAPE)\n",
    "\n",
    "# --------------------- START DETECTING ------------------------ #\n",
    "while cap.isOpened():\n",
    "\tret, frame = cap.read()\n",
    "\n",
    "\tif ret: \n",
    "\t\tif cv2.waitKey(1) & 0xFF == ord('s'): break\n",
    "\n",
    "\t\t# detect\n",
    "\t\tresults = model(frame)\n",
    "\t\t# set frame to detection\n",
    "\t\tframe = np.squeeze(results.render())\n",
    "\t\t# resize frame\n",
    "\t\tframe = cv2.resize(frame, VIDEO_SHAPE)\n",
    "\t\t# show detections in new window\n",
    "\t\tcv2.imshow('YOLOv5s', frame)\n",
    "\t\t# write frame to video\n",
    "\t\twriter.write(frame)\n",
    "\t\t\n",
    "\telse: break\n",
    "\n",
    "cap.release()\n",
    "writer.release()\n",
    "cv2.destroyAllWindows()"
   ]
  },
  {
   "cell_type": "code",
   "execution_count": 31,
   "metadata": {},
   "outputs": [
    {
     "name": "stderr",
     "output_type": "stream",
     "text": [
      "Using cache found in /home/koen/.cache/torch/hub/ultralytics_yolov5_master\n",
      "YOLOv5 🚀 2022-4-20 torch 1.11.0+cu102 CUDA:0 (NVIDIA GeForce GTX 1070 Ti, 8116MiB)\n",
      "\n",
      "Fusing layers... \n"
     ]
    },
    {
     "name": "stdout",
     "output_type": "stream",
     "text": [
      "Using device: cuda \n",
      "\n"
     ]
    },
    {
     "name": "stderr",
     "output_type": "stream",
     "text": [
      "YOLOv5s summary: 213 layers, 7225885 parameters, 0 gradients\n",
      "Adding AutoShape... \n"
     ]
    },
    {
     "name": "stdout",
     "output_type": "stream",
     "text": [
      "1000 detections took 8.414271354675293 seconds\n",
      "FPS: 118.84570366801417\n"
     ]
    }
   ],
   "source": [
    "import torch\n",
    "import cv2\n",
    "import numpy as np\n",
    "from time import time\n",
    "\n",
    "# setting device on GPU if available, else CPU\n",
    "device = torch.device('cuda' if torch.cuda.is_available() else 'cpu')\n",
    "print('Using device:', device, '\\n')\n",
    "\n",
    "# Load Model (yolov5s)\n",
    "model = torch.hub.load('ultralytics/yolov5', 'yolov5s')\n",
    "\n",
    "# Set confidence treshold\n",
    "model.conf = 0.1\n",
    "\n",
    "# Only detect bottles\n",
    "model.classes = [39]\n",
    "\n",
    "# test image\n",
    "frame = cv2.imread(\"bottle.jpg\")\n",
    "\n",
    "# set amount of detections \n",
    "DETECTIONS = 1000\n",
    "\n",
    "# start timer\n",
    "start = time()\n",
    "\n",
    "# --------------------- START DETECTING ------------------------ #\n",
    "for _ in range(DETECTIONS):\n",
    "\t# detect\n",
    "\tresults = model(frame)\n",
    "\tif results.pandas().xyxy[0].empty: # turn this of to see the true performance (should gain you around a 20% performance improvement)\n",
    "\t\traise Exception(\"Nothing detected, make sure the image contains something to detect.\")\n",
    "\n",
    "# stop timer\n",
    "end = time()\n",
    "print(f\"{DETECTIONS} detections took {end - start} seconds\")\n",
    "print(f\"FPS: {DETECTIONS/(end - start)}\")"
   ]
  }
 ],
 "metadata": {
  "interpreter": {
   "hash": "0adcc2737ebf6a4a119f135174df96668767fca1ef1112612db5ecadf2b6d608"
  },
  "kernelspec": {
   "display_name": "Python 3.8.0 64-bit",
   "language": "python",
   "name": "python3"
  },
  "language_info": {
   "codemirror_mode": {
    "name": "ipython",
    "version": 3
   },
   "file_extension": ".py",
   "mimetype": "text/x-python",
   "name": "python",
   "nbconvert_exporter": "python",
   "pygments_lexer": "ipython3",
   "version": "3.8.0"
  },
  "orig_nbformat": 4
 },
 "nbformat": 4,
 "nbformat_minor": 2
}
