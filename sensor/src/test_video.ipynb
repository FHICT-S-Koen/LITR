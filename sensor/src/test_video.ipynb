{
 "cells": [
  {
   "cell_type": "markdown",
   "metadata": {},
   "source": [
    "# Video capture and video writer test"
   ]
  },
  {
   "cell_type": "code",
   "execution_count": null,
   "metadata": {},
   "outputs": [],
   "source": [
    "import cv2\n",
    "import torch\n",
    "import numpy as np\n",
    "\n",
    "# setting device on GPU if available, else CPU\n",
    "device = torch.device('cuda' if torch.cuda.is_available() else 'cpu')\n",
    "print('Using device:', device, '\\n')\n",
    "\n",
    "# load pre-trained yolov5 model\n",
    "# model = torch.hub.load('ultralytics/yolov5', 'yolov5s')\n",
    "\n",
    "# load custom model\n",
    "model = torch.hub.load(repo_or_dir='yolov5', model='custom', force_reload=True, path='yolov5/runs/train/exp13/weights/best.pt', source='local')\n",
    "\n",
    "# set confidence treshold\n",
    "model.conf = 0.1\n",
    "\n",
    "# print labels\n",
    "print(model.names)\n",
    "\n",
    "# Try to start videocapture\n",
    "cap = cv2.VideoCapture(\"videos/IMG_7203.MOV\")\n",
    "\n",
    "VIDEO_SHAPE = (1080, 1080)\n",
    "FPS = 30\n",
    "\n",
    "# Try to start videowriter\n",
    "writer = cv2.VideoWriter('videos/video.mov', \n",
    "                         cv2.VideoWriter_fourcc(*'mp4v'),\n",
    "                         FPS, VIDEO_SHAPE)\n",
    "\n",
    "# --------------------- START DETECTING ------------------------ #\n",
    "while cap.isOpened():\n",
    "\tret, frame = cap.read()\n",
    "\n",
    "\tif ret: \n",
    "\t\tif cv2.waitKey(1) & 0xFF == ord('s'): break\n",
    "\n",
    "\t\t# detect\n",
    "\t\tresults = model(frame)\n",
    "\t\t# set frame to detection\n",
    "\t\tframe = np.squeeze(results.render())\n",
    "\t\t# resize frame\n",
    "\t\tframe = cv2.resize(frame, VIDEO_SHAPE)\n",
    "\t\t# show detections in new window\n",
    "\t\tcv2.imshow('YOLOv5s', frame)\n",
    "\t\t# write frame to video\n",
    "\t\twriter.write(frame)\n",
    "\t\t\n",
    "\telse: break\n",
    "\n",
    "cap.release()\n",
    "writer.release()\n",
    "cv2.destroyAllWindows()"
   ]
  }
 ],
 "metadata": {
  "interpreter": {
   "hash": "0adcc2737ebf6a4a119f135174df96668767fca1ef1112612db5ecadf2b6d608"
  },
  "kernelspec": {
   "display_name": "Python 3.8.0 64-bit",
   "language": "python",
   "name": "python3"
  },
  "language_info": {
   "codemirror_mode": {
    "name": "ipython",
    "version": 3
   },
   "file_extension": ".py",
   "mimetype": "text/x-python",
   "name": "python",
   "nbconvert_exporter": "python",
   "pygments_lexer": "ipython3",
   "version": "3.8.0"
  },
  "orig_nbformat": 4
 },
 "nbformat": 4,
 "nbformat_minor": 2
}
