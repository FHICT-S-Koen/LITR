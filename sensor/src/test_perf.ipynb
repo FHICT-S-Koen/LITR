{
 "cells": [
  {
   "cell_type": "markdown",
   "metadata": {},
   "source": [
    "# Performance testing"
   ]
  },
  {
   "cell_type": "markdown",
   "metadata": {},
   "source": [
    "### Without threading"
   ]
  },
  {
   "cell_type": "code",
   "execution_count": 5,
   "metadata": {},
   "outputs": [
    {
     "name": "stderr",
     "output_type": "stream",
     "text": [
      "Using cache found in /home/koen/.cache/torch/hub/ultralytics_yolov5_master\n",
      "YOLOv5 🚀 2022-4-20 torch 1.11.0+cu102 CUDA:0 (NVIDIA GeForce GTX 1070 Ti, 8116MiB)\n",
      "\n",
      "Fusing layers... \n"
     ]
    },
    {
     "name": "stdout",
     "output_type": "stream",
     "text": [
      "Using device: cuda \n",
      "\n"
     ]
    },
    {
     "name": "stderr",
     "output_type": "stream",
     "text": [
      "YOLOv5s summary: 213 layers, 7225885 parameters, 0 gradients\n",
      "Adding AutoShape... \n"
     ]
    },
    {
     "name": "stdout",
     "output_type": "stream",
     "text": [
      "1000 detections took 9.848912477493286 seconds\n",
      "FPS: 101.53405284950982\n"
     ]
    }
   ],
   "source": [
    "import cv2\n",
    "import torch\n",
    "\n",
    "# testing\n",
    "from time import time\n",
    "\n",
    "# setting device on GPU if available, else CPU\n",
    "device = torch.device('cuda' if torch.cuda.is_available() else 'cpu')\n",
    "print('Using device:', device, '\\n')\n",
    "\n",
    "# Load Model (yolov5s)\n",
    "model = torch.hub.load('ultralytics/yolov5', 'yolov5s')\n",
    "\n",
    "# Set confidence treshold\n",
    "model.conf = 0.1\n",
    "\n",
    "# Only detect bottles\n",
    "model.classes = [39]\n",
    "\n",
    "# test image\n",
    "frame = cv2.imread(\"images/bottle.jpg\")\n",
    "\n",
    "# set amount of detections \n",
    "DETECTIONS = 1000\n",
    "\n",
    "# start timer\n",
    "start = time()\n",
    "\n",
    "# --------------------- START DETECTING ------------------------ #\n",
    "for _ in range(DETECTIONS):\n",
    "\t# detect\n",
    "\tresults = model(frame)\n",
    "\tif results.pandas().xyxy[0].empty: continue # turn this off to see the true performance (should gain you around a 20% performance improvement)\n",
    "\n",
    "# stop timer\n",
    "end = time()\n",
    "print(f\"{DETECTIONS} detections took {end - start} seconds\")\n",
    "print(f\"FPS: {DETECTIONS/(end - start)}\")"
   ]
  },
  {
   "cell_type": "markdown",
   "metadata": {},
   "source": [
    "### With threading"
   ]
  },
  {
   "cell_type": "code",
   "execution_count": 6,
   "metadata": {},
   "outputs": [
    {
     "name": "stderr",
     "output_type": "stream",
     "text": [
      "Using cache found in /home/koen/.cache/torch/hub/ultralytics_yolov5_master\n",
      "YOLOv5 🚀 2022-4-20 torch 1.11.0+cu102 CUDA:0 (NVIDIA GeForce GTX 1070 Ti, 8116MiB)\n",
      "\n",
      "Fusing layers... \n"
     ]
    },
    {
     "name": "stdout",
     "output_type": "stream",
     "text": [
      "Using device: cuda \n",
      "\n"
     ]
    },
    {
     "name": "stderr",
     "output_type": "stream",
     "text": [
      "YOLOv5s summary: 213 layers, 7225885 parameters, 0 gradients\n",
      "Adding AutoShape... \n"
     ]
    },
    {
     "name": "stdout",
     "output_type": "stream",
     "text": [
      "1000 detections took 8.339622020721436 seconds\n",
      "FPS: 119.90951118831319\n"
     ]
    }
   ],
   "source": [
    "import cv2\n",
    "import torch\n",
    "\n",
    "# testing\n",
    "from time import time\n",
    "from concurrent.futures import ThreadPoolExecutor\n",
    "\n",
    "# setting device on GPU if available, else CPU\n",
    "device = torch.device('cuda' if torch.cuda.is_available() else 'cpu')\n",
    "print('Using device:', device, '\\n')\n",
    "\n",
    "# Load Model (yolov5s)\n",
    "model = torch.hub.load('ultralytics/yolov5', 'yolov5s')\n",
    "\n",
    "# Set confidence treshold\n",
    "model.conf = 0.1\n",
    "\n",
    "# Only detect bottles\n",
    "model.classes = [39]\n",
    "\n",
    "# test image\n",
    "frame = cv2.imread(\"images/bottle.jpg\")\n",
    "\n",
    "# set amount of detections \n",
    "DETECTIONS = 1000\n",
    "\n",
    "# worker function\n",
    "def task(detections):\n",
    "\tfor d in detections:\n",
    "\t\tif d.pandas().xyxy[0].empty: continue\n",
    "\n",
    "detections = []\n",
    "\n",
    "# init thread pool\n",
    "executor = ThreadPoolExecutor(1)\n",
    "\n",
    "# start timer\n",
    "start = time()\n",
    "\n",
    "# --------------------- START DETECTING ------------------------ #\n",
    "for _ in range(DETECTIONS):\n",
    "\t# detect\n",
    "\tresults = model(frame)\n",
    "\t# after five detections offload to worker threads\n",
    "\tif len(results) == 100:\n",
    "\t\texecutor.map(task, detections)\n",
    "\t\tdetections.clear()\n",
    "\t# append data to offload\n",
    "\tdetections.append(results)\n",
    "\n",
    "# stop timer\n",
    "end = time()\n",
    "print(f\"{DETECTIONS} detections took {end - start} seconds\")\n",
    "print(f\"FPS: {DETECTIONS/(end - start)}\")"
   ]
  },
  {
   "cell_type": "markdown",
   "metadata": {},
   "source": [
    "# Real world performance testing"
   ]
  },
  {
   "cell_type": "markdown",
   "metadata": {},
   "source": [
    "### Without threading"
   ]
  },
  {
   "cell_type": "code",
   "execution_count": 3,
   "metadata": {},
   "outputs": [
    {
     "name": "stderr",
     "output_type": "stream",
     "text": [
      "Using cache found in /home/koen/.cache/torch/hub/ultralytics_yolov5_master\n",
      "YOLOv5 🚀 2022-4-20 torch 1.11.0+cu102 CUDA:0 (NVIDIA GeForce GTX 1070 Ti, 8116MiB)\n",
      "\n",
      "Fusing layers... \n"
     ]
    },
    {
     "name": "stdout",
     "output_type": "stream",
     "text": [
      "Using device: cuda \n",
      "\n"
     ]
    },
    {
     "name": "stderr",
     "output_type": "stream",
     "text": [
      "YOLOv5s summary: 213 layers, 7225885 parameters, 0 gradients\n",
      "Adding AutoShape... \n"
     ]
    },
    {
     "name": "stdout",
     "output_type": "stream",
     "text": [
      "1000 detections took 15.7927565574646 seconds\n",
      "FPS: 63.32016810120082\n"
     ]
    }
   ],
   "source": [
    "import cv2\n",
    "import torch\n",
    "from copy import copy\n",
    "\n",
    "# testing\n",
    "from time import time\n",
    "\n",
    "# our modules\n",
    "from detection import Detection\n",
    "\n",
    "# setting device on GPU if available, else CPU\n",
    "device = torch.device('cuda' if torch.cuda.is_available() else 'cpu')\n",
    "print('Using device:', device, '\\n')\n",
    "\n",
    "# Load Model (yolov5s)\n",
    "model = torch.hub.load('ultralytics/yolov5', 'yolov5s')\n",
    "\n",
    "# Set confidence treshold\n",
    "model.conf = 0.1\n",
    "\n",
    "# Only detect bottles\n",
    "model.classes = [39]\n",
    "\n",
    "# test image\n",
    "frame = cv2.imread(\"images/bottle.jpg\")\n",
    "\n",
    "# set amount of detections \n",
    "DETECTIONS = 1000\n",
    "\n",
    "# start timer\n",
    "start = time()\n",
    "\n",
    "# --------------------- START DETECTING ------------------------ #\n",
    "for _ in range(DETECTIONS):\n",
    "\tbase_img = copy(frame) # necessary\n",
    "\t# detect\n",
    "\tresults = model(frame)\n",
    "\n",
    "\t# Reformat results to pandas dataframe\n",
    "\tdf = results.pandas().xyxy[0]\n",
    "\n",
    "\t# If empty continue with next frame\n",
    "\t# else send detection data\n",
    "\tif (df.empty): continue\n",
    "\n",
    "\tlat, lon = 0, 0\n",
    "\tDetection(df, lat, lon, base_img).send(\"http://localhost/api/test\", \"test\")\n",
    "\n",
    "# stop timer\n",
    "end = time()\n",
    "print(f\"{DETECTIONS} detections took {end - start} seconds\")\n",
    "print(f\"FPS: {DETECTIONS/(end - start)}\")"
   ]
  },
  {
   "cell_type": "markdown",
   "metadata": {},
   "source": [
    "### With threading"
   ]
  },
  {
   "cell_type": "code",
   "execution_count": 4,
   "metadata": {},
   "outputs": [
    {
     "name": "stderr",
     "output_type": "stream",
     "text": [
      "Using cache found in /home/koen/.cache/torch/hub/ultralytics_yolov5_master\n",
      "YOLOv5 🚀 2022-4-20 torch 1.11.0+cu102 CUDA:0 (NVIDIA GeForce GTX 1070 Ti, 8116MiB)\n",
      "\n",
      "Fusing layers... \n"
     ]
    },
    {
     "name": "stdout",
     "output_type": "stream",
     "text": [
      "Using device: cuda \n",
      "\n"
     ]
    },
    {
     "name": "stderr",
     "output_type": "stream",
     "text": [
      "YOLOv5s summary: 213 layers, 7225885 parameters, 0 gradients\n",
      "Adding AutoShape... \n"
     ]
    },
    {
     "name": "stdout",
     "output_type": "stream",
     "text": [
      "1000 detections took 8.367568016052246 seconds\n",
      "FPS: 119.50903752220616\n"
     ]
    }
   ],
   "source": [
    "import cv2\n",
    "import torch\n",
    "from copy import copy\n",
    "\n",
    "# testing\n",
    "from time import time\n",
    "from concurrent.futures import ThreadPoolExecutor\n",
    "\n",
    "# our modules\n",
    "from detection import Detection\n",
    "\n",
    "# setting device on GPU if available, else CPU\n",
    "device = torch.device('cuda' if torch.cuda.is_available() else 'cpu')\n",
    "print('Using device:', device, '\\n')\n",
    "\n",
    "# Load Model (yolov5s)\n",
    "model = torch.hub.load('ultralytics/yolov5', 'yolov5s')\n",
    "\n",
    "# Set confidence treshold\n",
    "model.conf = 0.1\n",
    "\n",
    "# Only detect bottles\n",
    "model.classes = [39]\n",
    "\n",
    "# test image\n",
    "frame = cv2.imread(\"images/bottle.jpg\")\n",
    "\n",
    "# set amount of detections \n",
    "DETECTIONS = 1000\n",
    "\n",
    "# worker function\n",
    "def task(detections):\n",
    "\tfor d in detections:\n",
    "\t\tdf = d[0].pandas().xyxy[0]\n",
    "\t\tif df.empty: continue\n",
    "\t\tDetection(df, d[1], d[2], d[3]).send(\"http://localhost/api/test\", \"test\")\n",
    "\n",
    "detections = []\n",
    "\n",
    "# init thread pool\n",
    "executor = ThreadPoolExecutor(1)\n",
    "\n",
    "# start timer\n",
    "start = time()\n",
    "\n",
    "# --------------------- START DETECTING ------------------------ #\n",
    "for _ in range(DETECTIONS):\n",
    "\tbase_img = copy(frame) # necessary\n",
    "\t# detect\n",
    "\tresults = model(frame)\n",
    "\t# after five detections offload to worker threads\n",
    "\tif len(results) == 100:\n",
    "\t\texecutor.map(task, detections)\n",
    "\t\tdetections.clear()\n",
    "\t# get location\n",
    "\tlat, lon = 0, 0\n",
    "\t# append data to offload\n",
    "\tdetections.append([results, lat, lon, base_img])\n",
    "\n",
    "# stop timer\n",
    "end = time()\n",
    "print(f\"{DETECTIONS} detections took {end - start} seconds\")\n",
    "print(f\"FPS: {DETECTIONS/(end - start)}\")"
   ]
  }
 ],
 "metadata": {
  "interpreter": {
   "hash": "0adcc2737ebf6a4a119f135174df96668767fca1ef1112612db5ecadf2b6d608"
  },
  "kernelspec": {
   "display_name": "Python 3.8.0 64-bit",
   "language": "python",
   "name": "python3"
  },
  "language_info": {
   "codemirror_mode": {
    "name": "ipython",
    "version": 3
   },
   "file_extension": ".py",
   "mimetype": "text/x-python",
   "name": "python",
   "nbconvert_exporter": "python",
   "pygments_lexer": "ipython3",
   "version": "3.8.0"
  },
  "orig_nbformat": 4
 },
 "nbformat": 4,
 "nbformat_minor": 2
}
