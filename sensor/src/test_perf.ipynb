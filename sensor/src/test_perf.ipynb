{
 "cells": [
  {
   "cell_type": "markdown",
   "metadata": {},
   "source": [
    "# Performance testing"
   ]
  },
  {
   "cell_type": "markdown",
   "metadata": {},
   "source": [
    "### Without threading"
   ]
  },
  {
   "cell_type": "code",
   "execution_count": 1,
   "metadata": {},
   "outputs": [
    {
     "name": "stderr",
     "output_type": "stream",
     "text": [
      "/home/koen/.local/lib/python3.8/site-packages/tqdm/auto.py:22: TqdmWarning: IProgress not found. Please update jupyter and ipywidgets. See https://ipywidgets.readthedocs.io/en/stable/user_install.html\n",
      "  from .autonotebook import tqdm as notebook_tqdm\n",
      "Using cache found in /home/koen/.cache/torch/hub/ultralytics_yolov5_master\n"
     ]
    },
    {
     "name": "stdout",
     "output_type": "stream",
     "text": [
      "Using device: cuda \n",
      "\n"
     ]
    },
    {
     "name": "stderr",
     "output_type": "stream",
     "text": [
      "YOLOv5 🚀 2022-4-20 torch 1.11.0+cu102 CUDA:0 (NVIDIA GeForce GTX 1070 Ti, 8116MiB)\n",
      "\n",
      "Fusing layers... \n",
      "YOLOv5s summary: 213 layers, 7225885 parameters, 0 gradients\n",
      "Adding AutoShape... \n"
     ]
    },
    {
     "name": "stdout",
     "output_type": "stream",
     "text": [
      "1000 detections took 9.952907800674438 seconds\n",
      "FPS: 100.4731501614269\n"
     ]
    }
   ],
   "source": [
    "import cv2\n",
    "import torch\n",
    "\n",
    "# testing\n",
    "from time import time\n",
    "\n",
    "# setting device on GPU if available, else CPU\n",
    "device = torch.device('cuda' if torch.cuda.is_available() else 'cpu')\n",
    "print('Using device:', device, '\\n')\n",
    "\n",
    "# Load Model (yolov5s)\n",
    "model = torch.hub.load('ultralytics/yolov5', 'yolov5s')\n",
    "\n",
    "# Set confidence treshold\n",
    "model.conf = 0.1\n",
    "\n",
    "# Only detect bottles\n",
    "model.classes = [39]\n",
    "\n",
    "# test image\n",
    "frame = cv2.imread(\"images/bottle.jpg\")\n",
    "\n",
    "# set amount of detections \n",
    "DETECTIONS = 1000\n",
    "\n",
    "# start timer\n",
    "start = time()\n",
    "\n",
    "# --------------------- START DETECTING ------------------------ #\n",
    "for _ in range(DETECTIONS):\n",
    "\t# detect\n",
    "\tresults = model(frame)\n",
    "\tif results.pandas().xyxy[0].empty: continue # turn this off to see the true performance (should gain you around a 20% performance improvement)\n",
    "\n",
    "# stop timer\n",
    "end = time()\n",
    "print(f\"{DETECTIONS} detections took {end - start} seconds\")\n",
    "print(f\"FPS: {DETECTIONS/(end - start)}\")"
   ]
  },
  {
   "cell_type": "markdown",
   "metadata": {},
   "source": [
    "### With threading"
   ]
  },
  {
   "cell_type": "code",
   "execution_count": 2,
   "metadata": {},
   "outputs": [
    {
     "name": "stderr",
     "output_type": "stream",
     "text": [
      "Using cache found in /home/koen/.cache/torch/hub/ultralytics_yolov5_master\n",
      "YOLOv5 🚀 2022-4-20 torch 1.11.0+cu102 CUDA:0 (NVIDIA GeForce GTX 1070 Ti, 8116MiB)\n",
      "\n",
      "Fusing layers... \n"
     ]
    },
    {
     "name": "stdout",
     "output_type": "stream",
     "text": [
      "Using device: cuda \n",
      "\n"
     ]
    },
    {
     "name": "stderr",
     "output_type": "stream",
     "text": [
      "YOLOv5s summary: 213 layers, 7225885 parameters, 0 gradients\n",
      "Adding AutoShape... \n"
     ]
    },
    {
     "name": "stdout",
     "output_type": "stream",
     "text": [
      "1000 detections took 8.364465951919556 seconds\n",
      "FPS: 119.55335890518039\n"
     ]
    }
   ],
   "source": [
    "import cv2\n",
    "import torch\n",
    "\n",
    "# testing\n",
    "from time import time\n",
    "from concurrent.futures import ThreadPoolExecutor\n",
    "\n",
    "# setting device on GPU if available, else CPU\n",
    "device = torch.device('cuda' if torch.cuda.is_available() else 'cpu')\n",
    "print('Using device:', device, '\\n')\n",
    "\n",
    "# Load Model (yolov5s)\n",
    "model = torch.hub.load('ultralytics/yolov5', 'yolov5s')\n",
    "\n",
    "# Set confidence treshold\n",
    "model.conf = 0.1\n",
    "\n",
    "# Only detect bottles\n",
    "model.classes = [39]\n",
    "\n",
    "# test image\n",
    "frame = cv2.imread(\"images/bottle.jpg\")\n",
    "\n",
    "# set amount of detections \n",
    "DETECTIONS = 1000\n",
    "\n",
    "# worker function\n",
    "def task(detections):\n",
    "\tfor d in detections:\n",
    "\t\tif d.pandas().xyxy[0].empty: continue\n",
    "\n",
    "detections = []\n",
    "\n",
    "# init thread pool\n",
    "executor = ThreadPoolExecutor(1)\n",
    "\n",
    "# start timer\n",
    "start = time()\n",
    "\n",
    "# --------------------- START DETECTING ------------------------ #\n",
    "for _ in range(DETECTIONS):\n",
    "\t# detect\n",
    "\tresults = model(frame)\n",
    "\t# after five detections offload to worker threads\n",
    "\tif len(results) == 100:\n",
    "\t\texecutor.map(task, detections)\n",
    "\t\tdetections.clear()\n",
    "\t# append data to offload\n",
    "\tdetections.append(results)\n",
    "\n",
    "# stop timer\n",
    "end = time()\n",
    "print(f\"{DETECTIONS} detections took {end - start} seconds\")\n",
    "print(f\"FPS: {DETECTIONS/(end - start)}\")"
   ]
  },
  {
   "cell_type": "markdown",
   "metadata": {},
   "source": [
    "# Real world performance testing"
   ]
  },
  {
   "cell_type": "markdown",
   "metadata": {},
   "source": [
    "### Without threading"
   ]
  },
  {
   "cell_type": "code",
   "execution_count": 3,
   "metadata": {},
   "outputs": [
    {
     "name": "stderr",
     "output_type": "stream",
     "text": [
      "Using cache found in /home/koen/.cache/torch/hub/ultralytics_yolov5_master\n",
      "YOLOv5 🚀 2022-4-20 torch 1.11.0+cu102 CUDA:0 (NVIDIA GeForce GTX 1070 Ti, 8116MiB)\n",
      "\n",
      "Fusing layers... \n"
     ]
    },
    {
     "name": "stdout",
     "output_type": "stream",
     "text": [
      "Using device: cuda \n",
      "\n"
     ]
    },
    {
     "name": "stderr",
     "output_type": "stream",
     "text": [
      "YOLOv5s summary: 213 layers, 7225885 parameters, 0 gradients\n",
      "Adding AutoShape... \n"
     ]
    },
    {
     "name": "stdout",
     "output_type": "stream",
     "text": [
      "1000 detections took 15.820194482803345 seconds\n",
      "FPS: 63.210348083078664\n"
     ]
    }
   ],
   "source": [
    "import cv2\n",
    "import torch\n",
    "import requests\n",
    "from copy import copy\n",
    "\n",
    "# testing\n",
    "from time import time\n",
    "\n",
    "# our modules\n",
    "from detection import Detection\n",
    "\n",
    "# setting device on GPU if available, else CPU\n",
    "device = torch.device('cuda' if torch.cuda.is_available() else 'cpu')\n",
    "print('Using device:', device, '\\n')\n",
    "\n",
    "# Load Model (yolov5s)\n",
    "model = torch.hub.load('ultralytics/yolov5', 'yolov5s')\n",
    "\n",
    "# Set confidence treshold\n",
    "model.conf = 0.1\n",
    "\n",
    "# Only detect bottles\n",
    "model.classes = [39]\n",
    "\n",
    "# Get environment variables\n",
    "# API_URL, SECRET_KEY = _utils.get_env(['API_URL', 'SECRET_KEY'])\n",
    "\n",
    "# test image\n",
    "frame = cv2.imread(\"images/bottle.jpg\")\n",
    "\n",
    "# set amount of detections \n",
    "DETECTIONS = 1000\n",
    "\n",
    "# start timer\n",
    "start = time()\n",
    "\n",
    "# --------------------- START DETECTING ------------------------ #\n",
    "for _ in range(DETECTIONS):\n",
    "\tbase_img = copy(frame) # necessary\n",
    "\t# detect\n",
    "\tresults = model(frame)\n",
    "\n",
    "\t# Reformat results to pandas dataframe\n",
    "\tdf = results.pandas().xyxy[0]\n",
    "\n",
    "\t# If empty continue with next frame\n",
    "\t# else send detection data\n",
    "\tif (df.empty): continue\n",
    "\n",
    "\tlat, lon = 0, 0\n",
    "\tdata = Detection(df, lat, lon, base_img)\n",
    "\tres = requests.post(\n",
    "\t\turl=\"http://localhost/api/test\", \n",
    "\t\tdata=data.json_serialize(), # To get the image with bounding box use: results.render()[0]\n",
    "\t\theaders={\"Authorization\": \"test\", \"Content-Type\": \"application/json\"})\n",
    "\t\n",
    "\t# print(\n",
    "\t# \tf'[ status: {res.status_code} ]' +\n",
    "\t# \tf'[ {data.detectedAt} ]' +\n",
    "\t# \tf'[ object(s): {len(data.objects)} ]' +\n",
    "\t# \tf'[ lat: {data.lat} - lon: {data.lon} ]'\n",
    "\t# \t)\n",
    "\n",
    "# stop timer\n",
    "end = time()\n",
    "print(f\"{DETECTIONS} detections took {end - start} seconds\")\n",
    "print(f\"FPS: {DETECTIONS/(end - start)}\")"
   ]
  },
  {
   "cell_type": "markdown",
   "metadata": {},
   "source": [
    "### With threading"
   ]
  },
  {
   "cell_type": "code",
   "execution_count": 4,
   "metadata": {},
   "outputs": [
    {
     "name": "stderr",
     "output_type": "stream",
     "text": [
      "Using cache found in /home/koen/.cache/torch/hub/ultralytics_yolov5_master\n",
      "YOLOv5 🚀 2022-4-20 torch 1.11.0+cu102 CUDA:0 (NVIDIA GeForce GTX 1070 Ti, 8116MiB)\n",
      "\n",
      "Fusing layers... \n"
     ]
    },
    {
     "name": "stdout",
     "output_type": "stream",
     "text": [
      "Using device: cuda \n",
      "\n"
     ]
    },
    {
     "name": "stderr",
     "output_type": "stream",
     "text": [
      "YOLOv5s summary: 213 layers, 7225885 parameters, 0 gradients\n",
      "Adding AutoShape... \n"
     ]
    },
    {
     "name": "stdout",
     "output_type": "stream",
     "text": [
      "1000 detections took 8.685909032821655 seconds\n",
      "FPS: 115.12899757771763\n"
     ]
    }
   ],
   "source": [
    "import cv2\n",
    "import torch\n",
    "import requests\n",
    "from copy import copy\n",
    "\n",
    "# testing\n",
    "from time import time\n",
    "from concurrent.futures import ThreadPoolExecutor\n",
    "\n",
    "# our modules\n",
    "from detection import Detection\n",
    "\n",
    "# setting device on GPU if available, else CPU\n",
    "device = torch.device('cuda' if torch.cuda.is_available() else 'cpu')\n",
    "print('Using device:', device, '\\n')\n",
    "\n",
    "# Load Model (yolov5s)\n",
    "model = torch.hub.load('ultralytics/yolov5', 'yolov5s')\n",
    "\n",
    "# Set confidence treshold\n",
    "model.conf = 0.1\n",
    "\n",
    "# Only detect bottles\n",
    "model.classes = [39]\n",
    "\n",
    "# Get environment variables\n",
    "# API_URL, SECRET_KEY = _utils.get_env(['API_URL', 'SECRET_KEY'])\n",
    "\n",
    "# test image\n",
    "frame = cv2.imread(\"images/bottle.jpg\")\n",
    "\n",
    "# set amount of detections \n",
    "DETECTIONS = 1000\n",
    "\n",
    "# worker function\n",
    "def task(detections):\n",
    "\tfor d in detections:\n",
    "\t\tdf = d[0].pandas().xyxy[0]\n",
    "\t\tif df.empty: continue\n",
    "\t\tdata = Detection(df, d[1], d[2], d[3])\n",
    "\t\tres = requests.post(\n",
    "\t\t\turl=\"http://localhost/api/test\", \n",
    "\t\t\tdata=data.json_serialize(), # To get the image with bounding box use: results.render()[0]\n",
    "\t\t\theaders={\"Authorization\": \"test\", \"Content-Type\": \"application/json\"})\n",
    "\t\t\n",
    "\t\t# print(\n",
    "\t\t# \tf'[ status: {res.status_code} ]' +\n",
    "\t\t# \tf'[ {data.detectedAt} ]' +\n",
    "\t\t# \tf'[ object(s): {len(data.objects)} ]' +\n",
    "\t\t# \tf'[ lat: {data.lat} - lon: {data.lon} ]'\n",
    "\t\t# \t)\n",
    "\n",
    "detections = []\n",
    "\n",
    "# init thread pool\n",
    "executor = ThreadPoolExecutor(1)\n",
    "\n",
    "# start timer\n",
    "start = time()\n",
    "\n",
    "# --------------------- START DETECTING ------------------------ #\n",
    "for _ in range(DETECTIONS):\n",
    "\tbase_img = copy(frame) # necessary\n",
    "\t# detect\n",
    "\tresults = model(frame)\n",
    "\t# after five detections offload to worker threads\n",
    "\tif len(results) == 100:\n",
    "\t\texecutor.map(task, detections)\n",
    "\t\tdetections.clear()\n",
    "\t# get location\n",
    "\tlat, lon = 0, 0\n",
    "\t# append data to offload\n",
    "\tdetections.append([results, lat, lon, base_img])\n",
    "\n",
    "# stop timer\n",
    "end = time()\n",
    "print(f\"{DETECTIONS} detections took {end - start} seconds\")\n",
    "print(f\"FPS: {DETECTIONS/(end - start)}\")"
   ]
  }
 ],
 "metadata": {
  "interpreter": {
   "hash": "0adcc2737ebf6a4a119f135174df96668767fca1ef1112612db5ecadf2b6d608"
  },
  "kernelspec": {
   "display_name": "Python 3.8.0 64-bit",
   "language": "python",
   "name": "python3"
  },
  "language_info": {
   "codemirror_mode": {
    "name": "ipython",
    "version": 3
   },
   "file_extension": ".py",
   "mimetype": "text/x-python",
   "name": "python",
   "nbconvert_exporter": "python",
   "pygments_lexer": "ipython3",
   "version": "3.8.0"
  },
  "orig_nbformat": 4
 },
 "nbformat": 4,
 "nbformat_minor": 2
}
